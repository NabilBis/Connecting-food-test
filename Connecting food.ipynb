{
 "cells": [
  {
   "cell_type": "code",
   "execution_count": null,
   "metadata": {},
   "outputs": [],
   "source": [
    "import urllib.request\n",
    "from datetime import datetime"
   ]
  },
  {
   "cell_type": "code",
   "execution_count": null,
   "metadata": {},
   "outputs": [],
   "source": [
    "def get_file_content(source, location):\n",
    "        def read_from_disc():\n",
    "            with open(location) as f:\n",
    "                content = f.read()\n",
    "            return content\n",
    "        \n",
    "        def read_from_web():\n",
    "            try:\n",
    "                content = urllib.request.urlopen(self.location)\n",
    "                return content\n",
    "            except:\n",
    "                print('error when fetching file from '+ location)\n",
    "        \n",
    "        if self.source=='disc':\n",
    "            return read_from_disc()\n",
    "        if self.source=='web':\n",
    "            return read_from_web()"
   ]
  },
  {
   "cell_type": "markdown",
   "metadata": {},
   "source": [
    "these countries code dictionary can be accessed directly from its source"
   ]
  },
  {
   "cell_type": "code",
   "execution_count": null,
   "metadata": {},
   "outputs": [],
   "source": [
    "def is_a_valid_country_code(code):\n",
    "    countries_code = {\"BD\": \"Bangladesh\", \"BE\": \"Belgium\", \"BF\": \"Burkina Faso\", \"BG\": \"Bulgaria\", \"BA\": \"Bosnia and Herzegovina\", \"BB\": \"Barbados\", \"WF\": \"Wallis and Futuna\", \"BL\": \"Saint Barthelemy\", \"BM\": \"Bermuda\", \"BN\": \"Brunei\", \"BO\": \"Bolivia\", \"BH\": \"Bahrain\", \"BI\": \"Burundi\", \"BJ\": \"Benin\", \"BT\": \"Bhutan\", \"JM\": \"Jamaica\", \"BV\": \"Bouvet Island\", \"BW\": \"Botswana\", \"WS\": \"Samoa\", \"BQ\": \"Bonaire, Saint Eustatius and Saba \", \"BR\": \"Brazil\", \"BS\": \"Bahamas\", \"JE\": \"Jersey\", \"BY\": \"Belarus\", \"BZ\": \"Belize\", \"RU\": \"Russia\", \"RW\": \"Rwanda\", \"RS\": \"Serbia\", \"TL\": \"East Timor\", \"RE\": \"Reunion\", \"TM\": \"Turkmenistan\", \"TJ\": \"Tajikistan\", \"RO\": \"Romania\", \"TK\": \"Tokelau\", \"GW\": \"Guinea-Bissau\", \"GU\": \"Guam\", \"GT\": \"Guatemala\", \"GS\": \"South Georgia and the South Sandwich Islands\", \"GR\": \"Greece\", \"GQ\": \"Equatorial Guinea\", \"GP\": \"Guadeloupe\", \"JP\": \"Japan\", \"GY\": \"Guyana\", \"GG\": \"Guernsey\", \"GF\": \"French Guiana\", \"GE\": \"Georgia\", \"GD\": \"Grenada\", \"GB\": \"United Kingdom\", \"GA\": \"Gabon\", \"SV\": \"El Salvador\", \"GN\": \"Guinea\", \"GM\": \"Gambia\", \"GL\": \"Greenland\", \"GI\": \"Gibraltar\", \"GH\": \"Ghana\", \"OM\": \"Oman\", \"TN\": \"Tunisia\", \"JO\": \"Jordan\", \"HR\": \"Croatia\", \"HT\": \"Haiti\", \"HU\": \"Hungary\", \"HK\": \"Hong Kong\", \"HN\": \"Honduras\", \"HM\": \"Heard Island and McDonald Islands\", \"VE\": \"Venezuela\", \"PR\": \"Puerto Rico\", \"PS\": \"Palestinian Territory\", \"PW\": \"Palau\", \"PT\": \"Portugal\", \"SJ\": \"Svalbard and Jan Mayen\", \"PY\": \"Paraguay\", \"IQ\": \"Iraq\", \"PA\": \"Panama\", \"PF\": \"French Polynesia\", \"PG\": \"Papua New Guinea\", \"PE\": \"Peru\", \"PK\": \"Pakistan\", \"PH\": \"Philippines\", \"PN\": \"Pitcairn\", \"PL\": \"Poland\", \"PM\": \"Saint Pierre and Miquelon\", \"ZM\": \"Zambia\", \"EH\": \"Western Sahara\", \"EE\": \"Estonia\", \"EG\": \"Egypt\", \"ZA\": \"South Africa\", \"EC\": \"Ecuador\", \"IT\": \"Italy\", \"VN\": \"Vietnam\", \"SB\": \"Solomon Islands\", \"ET\": \"Ethiopia\", \"SO\": \"Somalia\", \"ZW\": \"Zimbabwe\", \"SA\": \"Saudi Arabia\", \"ES\": \"Spain\", \"ER\": \"Eritrea\", \"ME\": \"Montenegro\", \"MD\": \"Moldova\", \"MG\": \"Madagascar\", \"MF\": \"Saint Martin\", \"MA\": \"Morocco\", \"MC\": \"Monaco\", \"UZ\": \"Uzbekistan\", \"MM\": \"Myanmar\", \"ML\": \"Mali\", \"MO\": \"Macao\", \"MN\": \"Mongolia\", \"MH\": \"Marshall Islands\", \"MK\": \"Macedonia\", \"MU\": \"Mauritius\", \"MT\": \"Malta\", \"MW\": \"Malawi\", \"MV\": \"Maldives\", \"MQ\": \"Martinique\", \"MP\": \"Northern Mariana Islands\", \"MS\": \"Montserrat\", \"MR\": \"Mauritania\", \"IM\": \"Isle of Man\", \"UG\": \"Uganda\", \"TZ\": \"Tanzania\", \"MY\": \"Malaysia\", \"MX\": \"Mexico\", \"IL\": \"Israel\", \"FR\": \"France\", \"IO\": \"British Indian Ocean Territory\", \"SH\": \"Saint Helena\", \"FI\": \"Finland\", \"FJ\": \"Fiji\", \"FK\": \"Falkland Islands\", \"FM\": \"Micronesia\", \"FO\": \"Faroe Islands\", \"NI\": \"Nicaragua\", \"NL\": \"Netherlands\", \"NO\": \"Norway\", \"NA\": \"Namibia\", \"VU\": \"Vanuatu\", \"NC\": \"New Caledonia\", \"NE\": \"Niger\", \"NF\": \"Norfolk Island\", \"NG\": \"Nigeria\", \"NZ\": \"New Zealand\", \"NP\": \"Nepal\", \"NR\": \"Nauru\", \"NU\": \"Niue\", \"CK\": \"Cook Islands\", \"XK\": \"Kosovo\", \"CI\": \"Ivory Coast\", \"CH\": \"Switzerland\", \"CO\": \"Colombia\", \"CN\": \"China\", \"CM\": \"Cameroon\", \"CL\": \"Chile\", \"CC\": \"Cocos Islands\", \"CA\": \"Canada\", \"CG\": \"Republic of the Congo\", \"CF\": \"Central African Republic\", \"CD\": \"Democratic Republic of the Congo\", \"CZ\": \"Czech Republic\", \"CY\": \"Cyprus\", \"CX\": \"Christmas Island\", \"CR\": \"Costa Rica\", \"CW\": \"Curacao\", \"CV\": \"Cape Verde\", \"CU\": \"Cuba\", \"SZ\": \"Swaziland\", \"SY\": \"Syria\", \"SX\": \"Sint Maarten\", \"KG\": \"Kyrgyzstan\", \"KE\": \"Kenya\", \"SS\": \"South Sudan\", \"SR\": \"Suriname\", \"KI\": \"Kiribati\", \"KH\": \"Cambodia\", \"KN\": \"Saint Kitts and Nevis\", \"KM\": \"Comoros\", \"ST\": \"Sao Tome and Principe\", \"SK\": \"Slovakia\", \"KR\": \"South Korea\", \"SI\": \"Slovenia\", \"KP\": \"North Korea\", \"KW\": \"Kuwait\", \"SN\": \"Senegal\", \"SM\": \"San Marino\", \"SL\": \"Sierra Leone\", \"SC\": \"Seychelles\", \"KZ\": \"Kazakhstan\", \"KY\": \"Cayman Islands\", \"SG\": \"Singapore\", \"SE\": \"Sweden\", \"SD\": \"Sudan\", \"DO\": \"Dominican Republic\", \"DM\": \"Dominica\", \"DJ\": \"Djibouti\", \"DK\": \"Denmark\", \"VG\": \"British Virgin Islands\", \"DE\": \"Germany\", \"YE\": \"Yemen\", \"DZ\": \"Algeria\", \"US\": \"United States\", \"UY\": \"Uruguay\", \"YT\": \"Mayotte\", \"UM\": \"United States Minor Outlying Islands\", \"LB\": \"Lebanon\", \"LC\": \"Saint Lucia\", \"LA\": \"Laos\", \"TV\": \"Tuvalu\", \"TW\": \"Taiwan\", \"TT\": \"Trinidad and Tobago\", \"TR\": \"Turkey\", \"LK\": \"Sri Lanka\", \"LI\": \"Liechtenstein\", \"LV\": \"Latvia\", \"TO\": \"Tonga\", \"LT\": \"Lithuania\", \"LU\": \"Luxembourg\", \"LR\": \"Liberia\", \"LS\": \"Lesotho\", \"TH\": \"Thailand\", \"TF\": \"French Southern Territories\", \"TG\": \"Togo\", \"TD\": \"Chad\", \"TC\": \"Turks and Caicos Islands\", \"LY\": \"Libya\", \"VA\": \"Vatican\", \"VC\": \"Saint Vincent and the Grenadines\", \"AE\": \"United Arab Emirates\", \"AD\": \"Andorra\", \"AG\": \"Antigua and Barbuda\", \"AF\": \"Afghanistan\", \"AI\": \"Anguilla\", \"VI\": \"U.S. Virgin Islands\", \"IS\": \"Iceland\", \"IR\": \"Iran\", \"AM\": \"Armenia\", \"AL\": \"Albania\", \"AO\": \"Angola\", \"AQ\": \"Antarctica\", \"AS\": \"American Samoa\", \"AR\": \"Argentina\", \"AU\": \"Australia\", \"AT\": \"Austria\", \"AW\": \"Aruba\", \"IN\": \"India\", \"AX\": \"Aland Islands\", \"AZ\": \"Azerbaijan\", \"IE\": \"Ireland\", \"ID\": \"Indonesia\", \"UA\": \"Ukraine\", \"QA\": \"Qatar\", \"MZ\": \"Mozambique\"}\n",
    "    return code in countries_code"
   ]
  },
  {
   "cell_type": "markdown",
   "metadata": {},
   "source": [
    "   i use this function to show that your can customize you conditions\n",
    "   and add as many as you want"
   ]
  },
  {
   "cell_type": "code",
   "execution_count": null,
   "metadata": {},
   "outputs": [],
   "source": [
    "def is_a_valid_product_id(id):\n",
    "    return id=='10001'"
   ]
  },
  {
   "cell_type": "markdown",
   "metadata": {},
   "source": [
    "the idea behind this function is to return a dict in where the keys are the country codes \n",
    "a \"inner\" dict is associated to every key in the parent dict; under the format :\n",
    "          **\"country_code\" : {'lines':number_of_lines, max_lines_portion_1: array_of_lines, .... max_lines_portion_N: array_of_lines}**\n",
    "          \n",
    "In the inner dict each time we reach the maxim number of the mazim line, a new key is added dynamically to the inner dict\n",
    "the dynamically key in the inner key is the coefficient of the maxim_line_number : \n",
    "         **(sub_files[country_code]['lines']/1000)//1**"
   ]
  },
  {
   "cell_type": "code",
   "execution_count": null,
   "metadata": {},
   "outputs": [],
   "source": [
    "\n",
    "def split_lines(file):\n",
    "    sub_files = {}\n",
    "\n",
    "    for line in file:\n",
    "        current_line = str(line)\n",
    "        line_parts = current_line.split(',')\n",
    "        product_id = line_parts[2]\n",
    "        country_code = line_parts[-1][:2] # [:2] to get country code only without '\\r\\n'\n",
    "        if product_id==is_a_valid_product_id(product_id) and is_a_valid_country_code(country_code):\n",
    "            if country_code in sub_files:\n",
    "                sub_files[country_code]['lines'] += 1\n",
    "                file_key = (sub_files[country_code]['lines']/1000)//1 \n",
    "                if file_key in sub_files[country_code]:\n",
    "                    sub_files[country_code][file_key].append(current_line)\n",
    "                else:\n",
    "                    sub_files[country_code][file_key] = [current_line]\n",
    "            else:\n",
    "                sub_files[country_code] = {'lines':1, 0:[current_line]}\n",
    "    return sub_files"
   ]
  },
  {
   "cell_type": "markdown",
   "metadata": {},
   "source": [
    "### For writing/exporting files we can create multiple threads in order to mitigate the running time\n",
    "**Explanation :**\n",
    "\n",
    "    .We can create a queue of 10 threads for exemple : each is responsible of writing a file \n",
    "    .We keep track of the written files in an dict (the check in a dictionnary is quicker than in an array)\n",
    "    .If a file is already treated(key in the dict) we pass"
   ]
  },
  {
   "cell_type": "code",
   "execution_count": null,
   "metadata": {},
   "outputs": [],
   "source": [
    "def export_sub_files_to(splited_lines, path):\n",
    "    def write_lines(lines, file_name):\n",
    "        f = open(path+file_name, \"w\")\n",
    "        f.write(\"\".join(lines))\n",
    "        f.close()\n",
    "    today_date = datetime.today().strftime('%Y%m%d')\n",
    "    for country_code in splited_lines: \n",
    "        for cle in splited_lines[country_code]:\n",
    "            if cle!=\"lines\":\n",
    "                write_lines(splited_lines[country_code][cle], today_date+\"_\"+country_code+\"_\"+str(cle)+'.csv')"
   ]
  }
 ],
 "metadata": {
  "kernelspec": {
   "display_name": "Python 3",
   "language": "python",
   "name": "python3"
  },
  "language_info": {
   "codemirror_mode": {
    "name": "ipython",
    "version": 3
   },
   "file_extension": ".py",
   "mimetype": "text/x-python",
   "name": "python",
   "nbconvert_exporter": "python",
   "pygments_lexer": "ipython3",
   "version": "3.7.3"
  }
 },
 "nbformat": 4,
 "nbformat_minor": 2
}
